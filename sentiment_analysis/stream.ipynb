{
 "cells": [
  {
   "cell_type": "code",
   "execution_count": 1,
   "metadata": {},
   "outputs": [],
   "source": [
    "# Import library yang dibutuhkan\n",
    "from tweepy.streaming import StreamListener\n",
    "from tweepy import OAuthHandler\n",
    "from tweepy import Stream\n",
    "import datetime\n",
    "import csv"
   ]
  },
  {
   "cell_type": "code",
   "execution_count": 2,
   "metadata": {},
   "outputs": [],
   "source": [
    "consumer_key = 'xUs2GcMtSE2m2Om8gR7RN3277'\n",
    "consumer_secret = 'jzF6j3r2iSoYKkD4A41zSGV0Fq12tikylv8YqafKrVYeAhLq0s'\n",
    "access_token = '2958225631-FLVaowHksojQaCNtaPLTNWPbKXdiTmqxs9FUSYq'\n",
    "access_token_secret = 'Uhqf90fcPn2xVEfpM9wEzP8TTK7MgdXV5SNWjW7xBDMOE'"
   ]
  },
  {
   "cell_type": "code",
   "execution_count": 3,
   "metadata": {},
   "outputs": [],
   "source": [
    "# Buat class untuk stream\n",
    "class StdOutListener(StreamListener):\n",
    "    def on_status(self, status):\n",
    "        # filter tweet yang berbahasa indonesia, kemudian masukkan kedalam csv\n",
    "        if status.lang == \"in\":\n",
    "            print(status)\n",
    "            tweet_text = \"'\" + status.text.replace('\\n', ' ') + \"'\"\n",
    "            tweet_text = tweet_text.encode('utf-8')\n",
    "            csvw.writerow([status.id,\n",
    "                        #status.user.screen_name,\n",
    "                        status.created_at.strftime('%m/%d/%y'),\n",
    "                        #status.user.followers_count,\n",
    "                        tweet_text])\n",
    "            return True\n",
    "\n",
    "    def on_error(self, status_code):\n",
    "        # tampilkan pesan jika terdapat error koneksi\n",
    "        if status_code == 420:\n",
    "            print(status_code)\n",
    "            return False\n"
   ]
  },
  {
   "cell_type": "code",
   "execution_count": null,
   "metadata": {},
   "outputs": [],
   "source": [
    "if __name__ == '__main__':\n",
    "\n",
    "    # Handel twitter autentikasi dan koneksi streaming\n",
    "    l = StdOutListener()\n",
    "    auth = OAuthHandler(consumer_key, consumer_secret)\n",
    "    auth.set_access_token(access_token, access_token_secret)\n",
    "    stream = Stream(auth, l)\n",
    "\n",
    "    # Buat file csv dan filter stream dengan kata kunci\n",
    "    csvw = csv.writer(open(\"crawling.csv\", \"a\"))\n",
    "    csvw.writerow(['user_id','created_at','text'])\n",
    "    stream.filter(track=['covid19', 'covid 19', 'korona'])\n"
   ]
  }
 ],
 "metadata": {
  "kernelspec": {
   "display_name": "Python 3",
   "language": "python",
   "name": "python3"
  },
  "language_info": {
   "codemirror_mode": {
    "name": "ipython",
    "version": 3
   },
   "file_extension": ".py",
   "mimetype": "text/x-python",
   "name": "python",
   "nbconvert_exporter": "python",
   "pygments_lexer": "ipython3",
   "version": "3.8.5"
  }
 },
 "nbformat": 4,
 "nbformat_minor": 4
}
