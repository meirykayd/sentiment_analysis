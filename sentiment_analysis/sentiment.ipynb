{
 "cells": [
  {
   "cell_type": "code",
   "execution_count": 1,
   "metadata": {},
   "outputs": [
    {
     "name": "stderr",
     "output_type": "stream",
     "text": [
      "[nltk_data] Downloading package punkt to C:\\Users\\Windows\n",
      "[nltk_data]     10\\AppData\\Roaming\\nltk_data...\n",
      "[nltk_data]   Package punkt is already up-to-date!\n"
     ]
    }
   ],
   "source": [
    "import pandas as pd\n",
    "import numpy as np\n",
    "import matplotlib.pyplot as plt\n",
    "import re\n",
    "import nltk\n",
    "nltk.download('punkt')\n",
    "from nltk import word_tokenize\n",
    "import sys\n",
    "from sklearn.metrics import confusion_matrix,classification_report\n",
    "from Sastrawi.StopWordRemover.StopWordRemoverFactory import StopWordRemoverFactory"
   ]
  },
  {
   "cell_type": "code",
   "execution_count": 2,
   "metadata": {},
   "outputs": [],
   "source": [
    "data=pd.read_csv('new_data.csv')"
   ]
  },
  {
   "cell_type": "code",
   "execution_count": 3,
   "metadata": {},
   "outputs": [
    {
     "data": {
      "text/plain": [
       " 1    139\n",
       "-1    135\n",
       "Name: label, dtype: int64"
      ]
     },
     "execution_count": 3,
     "metadata": {},
     "output_type": "execute_result"
    }
   ],
   "source": [
    "pd.value_counts(data['label'])"
   ]
  },
  {
   "cell_type": "code",
   "execution_count": 4,
   "metadata": {},
   "outputs": [],
   "source": [
    "data['sentimen'] = data['label']\n",
    "data['sentimen'].replace({1: 'positif', -1:'negatif'}, inplace=True)"
   ]
  },
  {
   "cell_type": "code",
   "execution_count": 5,
   "metadata": {},
   "outputs": [
    {
     "data": {
      "text/html": [
       "<div>\n",
       "<style scoped>\n",
       "    .dataframe tbody tr th:only-of-type {\n",
       "        vertical-align: middle;\n",
       "    }\n",
       "\n",
       "    .dataframe tbody tr th {\n",
       "        vertical-align: top;\n",
       "    }\n",
       "\n",
       "    .dataframe thead th {\n",
       "        text-align: right;\n",
       "    }\n",
       "</style>\n",
       "<table border=\"1\" class=\"dataframe\">\n",
       "  <thead>\n",
       "    <tr style=\"text-align: right;\">\n",
       "      <th></th>\n",
       "      <th>Unnamed: 0</th>\n",
       "      <th>user_id</th>\n",
       "      <th>created_at</th>\n",
       "      <th>text</th>\n",
       "      <th>label</th>\n",
       "      <th>tweet_tokens</th>\n",
       "      <th>tweet_tokens_fdist</th>\n",
       "      <th>tweet_tokens_WSW</th>\n",
       "      <th>tweet_normalized</th>\n",
       "      <th>tweet_tokens_stemmed</th>\n",
       "      <th>sentimen</th>\n",
       "    </tr>\n",
       "  </thead>\n",
       "  <tbody>\n",
       "    <tr>\n",
       "      <th>0</th>\n",
       "      <td>0</td>\n",
       "      <td>1.380000e+18</td>\n",
       "      <td>3/29/2021</td>\n",
       "      <td>bsatgas covid mengaku kepatuhan masyarakat ter...</td>\n",
       "      <td>-1</td>\n",
       "      <td>['bsatgas', 'covid', 'mengaku', 'kepatuhan', '...</td>\n",
       "      <td>&lt;FreqDist with 13 samples and 13 outcomes&gt;</td>\n",
       "      <td>['bsatgas', 'covid', 'mengaku', 'kepatuhan', '...</td>\n",
       "      <td>['satgas', 'covid', 'mengaku', 'kepatuhan', 'm...</td>\n",
       "      <td>['satgas', 'covid', 'aku', 'patuh', 'masyaraka...</td>\n",
       "      <td>negatif</td>\n",
       "    </tr>\n",
       "    <tr>\n",
       "      <th>1</th>\n",
       "      <td>1</td>\n",
       "      <td>1.380000e+18</td>\n",
       "      <td>3/29/2021</td>\n",
       "      <td>brt hari ini saya akan bahas soal long covid y...</td>\n",
       "      <td>1</td>\n",
       "      <td>['brt', 'hari', 'ini', 'saya', 'akan', 'bahas'...</td>\n",
       "      <td>&lt;FreqDist with 20 samples and 20 outcomes&gt;</td>\n",
       "      <td>['bahas', 'long', 'covid', 'sebutannya', 'diga...</td>\n",
       "      <td>['bahas', 'long', 'covid', 'sebutannya', 'diga...</td>\n",
       "      <td>['bahas', 'long', 'covid', 'sebut', 'ganti', '...</td>\n",
       "      <td>positif</td>\n",
       "    </tr>\n",
       "    <tr>\n",
       "      <th>2</th>\n",
       "      <td>2</td>\n",
       "      <td>1.380000e+18</td>\n",
       "      <td>3/29/2021</td>\n",
       "      <td>agak aneh gk sih kalo alasannya korona</td>\n",
       "      <td>-1</td>\n",
       "      <td>['agak', 'aneh', 'gk', 'sih', 'kalo', 'alasann...</td>\n",
       "      <td>&lt;FreqDist with 7 samples and 7 outcomes&gt;</td>\n",
       "      <td>['aneh', 'alasannya', 'korona']</td>\n",
       "      <td>['aneh', 'alasannya', 'korona']</td>\n",
       "      <td>['aneh', 'alas', 'korona']</td>\n",
       "      <td>negatif</td>\n",
       "    </tr>\n",
       "    <tr>\n",
       "      <th>3</th>\n",
       "      <td>3</td>\n",
       "      <td>1.380000e+18</td>\n",
       "      <td>3/29/2021</td>\n",
       "      <td>brt data kematian covid sampai maret</td>\n",
       "      <td>-1</td>\n",
       "      <td>['brt', 'data', 'kematian', 'covid', 'sampai',...</td>\n",
       "      <td>&lt;FreqDist with 6 samples and 6 outcomes&gt;</td>\n",
       "      <td>['data', 'kematian', 'covid', 'maret']</td>\n",
       "      <td>['data', 'kematian', 'covid', 'maret']</td>\n",
       "      <td>['data', 'mati', 'covid', 'maret']</td>\n",
       "      <td>negatif</td>\n",
       "    </tr>\n",
       "    <tr>\n",
       "      <th>4</th>\n",
       "      <td>4</td>\n",
       "      <td>1.380000e+18</td>\n",
       "      <td>3/29/2021</td>\n",
       "      <td>bterapkan pendisiplinan prokes guna antisipasi...</td>\n",
       "      <td>1</td>\n",
       "      <td>['bterapkan', 'pendisiplinan', 'prokes', 'guna...</td>\n",
       "      <td>&lt;FreqDist with 14 samples and 14 outcomes&gt;</td>\n",
       "      <td>['bterapkan', 'pendisiplinan', 'prokes', 'anti...</td>\n",
       "      <td>['terapkan', 'pendisiplinan', 'prokes', 'antis...</td>\n",
       "      <td>['terap', 'disiplin', 'prokes', 'antisipasi', ...</td>\n",
       "      <td>positif</td>\n",
       "    </tr>\n",
       "  </tbody>\n",
       "</table>\n",
       "</div>"
      ],
      "text/plain": [
       "   Unnamed: 0       user_id created_at  \\\n",
       "0           0  1.380000e+18  3/29/2021   \n",
       "1           1  1.380000e+18  3/29/2021   \n",
       "2           2  1.380000e+18  3/29/2021   \n",
       "3           3  1.380000e+18  3/29/2021   \n",
       "4           4  1.380000e+18  3/29/2021   \n",
       "\n",
       "                                                text  label  \\\n",
       "0  bsatgas covid mengaku kepatuhan masyarakat ter...     -1   \n",
       "1  brt hari ini saya akan bahas soal long covid y...      1   \n",
       "2             agak aneh gk sih kalo alasannya korona     -1   \n",
       "3               brt data kematian covid sampai maret     -1   \n",
       "4  bterapkan pendisiplinan prokes guna antisipasi...      1   \n",
       "\n",
       "                                        tweet_tokens  \\\n",
       "0  ['bsatgas', 'covid', 'mengaku', 'kepatuhan', '...   \n",
       "1  ['brt', 'hari', 'ini', 'saya', 'akan', 'bahas'...   \n",
       "2  ['agak', 'aneh', 'gk', 'sih', 'kalo', 'alasann...   \n",
       "3  ['brt', 'data', 'kematian', 'covid', 'sampai',...   \n",
       "4  ['bterapkan', 'pendisiplinan', 'prokes', 'guna...   \n",
       "\n",
       "                           tweet_tokens_fdist  \\\n",
       "0  <FreqDist with 13 samples and 13 outcomes>   \n",
       "1  <FreqDist with 20 samples and 20 outcomes>   \n",
       "2    <FreqDist with 7 samples and 7 outcomes>   \n",
       "3    <FreqDist with 6 samples and 6 outcomes>   \n",
       "4  <FreqDist with 14 samples and 14 outcomes>   \n",
       "\n",
       "                                    tweet_tokens_WSW  \\\n",
       "0  ['bsatgas', 'covid', 'mengaku', 'kepatuhan', '...   \n",
       "1  ['bahas', 'long', 'covid', 'sebutannya', 'diga...   \n",
       "2                    ['aneh', 'alasannya', 'korona']   \n",
       "3             ['data', 'kematian', 'covid', 'maret']   \n",
       "4  ['bterapkan', 'pendisiplinan', 'prokes', 'anti...   \n",
       "\n",
       "                                    tweet_normalized  \\\n",
       "0  ['satgas', 'covid', 'mengaku', 'kepatuhan', 'm...   \n",
       "1  ['bahas', 'long', 'covid', 'sebutannya', 'diga...   \n",
       "2                    ['aneh', 'alasannya', 'korona']   \n",
       "3             ['data', 'kematian', 'covid', 'maret']   \n",
       "4  ['terapkan', 'pendisiplinan', 'prokes', 'antis...   \n",
       "\n",
       "                                tweet_tokens_stemmed sentimen  \n",
       "0  ['satgas', 'covid', 'aku', 'patuh', 'masyaraka...  negatif  \n",
       "1  ['bahas', 'long', 'covid', 'sebut', 'ganti', '...  positif  \n",
       "2                         ['aneh', 'alas', 'korona']  negatif  \n",
       "3                 ['data', 'mati', 'covid', 'maret']  negatif  \n",
       "4  ['terap', 'disiplin', 'prokes', 'antisipasi', ...  positif  "
      ]
     },
     "execution_count": 5,
     "metadata": {},
     "output_type": "execute_result"
    }
   ],
   "source": [
    "data.head()"
   ]
  },
  {
   "cell_type": "code",
   "execution_count": 6,
   "metadata": {},
   "outputs": [
    {
     "data": {
      "text/plain": [
       " 1    139\n",
       "-1    135\n",
       "Name: label, dtype: int64"
      ]
     },
     "execution_count": 6,
     "metadata": {},
     "output_type": "execute_result"
    }
   ],
   "source": [
    "data['label'].value_counts()"
   ]
  },
  {
   "cell_type": "code",
   "execution_count": 7,
   "metadata": {},
   "outputs": [],
   "source": [
    "from sklearn.feature_extraction.text import TfidfTransformer, TfidfVectorizer\n",
    "from sklearn.feature_extraction.text import CountVectorizer\n",
    "X = data['tweet_tokens_stemmed']\n",
    "y = data['label']\n",
    "#cv = CountVectorizer()\n",
    "#cou_vec = cv.fit_transform(X)\n",
    "tfidf = TfidfVectorizer()\n",
    "corps = tfidf.fit_transform(X)"
   ]
  },
  {
   "cell_type": "code",
   "execution_count": 8,
   "metadata": {},
   "outputs": [],
   "source": [
    "from sklearn.model_selection import train_test_split\n",
    "X_train, X_test, y_train, y_test = train_test_split(corps,y, test_size=0.2, random_state=42)"
   ]
  },
  {
   "cell_type": "code",
   "execution_count": 9,
   "metadata": {},
   "outputs": [],
   "source": [
    "from sklearn.svm import SVC\n",
    "svm = SVC()\n",
    "svm = svm.fit(X_train, y_train)\n",
    "y_pred = svm.predict(X_test)"
   ]
  },
  {
   "cell_type": "code",
   "execution_count": 10,
   "metadata": {},
   "outputs": [
    {
     "name": "stdout",
     "output_type": "stream",
     "text": [
      "0.7636363636363637\n"
     ]
    }
   ],
   "source": [
    "from sklearn.metrics import accuracy_score,confusion_matrix\n",
    "print(accuracy_score(y_test,y_pred))"
   ]
  },
  {
   "cell_type": "code",
   "execution_count": 11,
   "metadata": {},
   "outputs": [],
   "source": [
    "cm_test =confusion_matrix(y_pred,y_test)"
   ]
  },
  {
   "cell_type": "code",
   "execution_count": 12,
   "metadata": {},
   "outputs": [
    {
     "data": {
      "image/png": "[encoded data removed]",
      "text/plain": [
       "<Figure size 432x432 with 2 Axes>"
      ]
     },
     "metadata": {
      "needs_background": "light"
     },
     "output_type": "display_data"
    }
   ],
   "source": [
    "import seaborn as sns\n",
    "plt.figure(figsize=(6,6))\n",
    "plt.title('Confusion Matrix Data Testing')\n",
    "sns.heatmap(cm_test,annot=True,fmt='d')\n",
    "plt.xlabel('Label Prediksi')\n",
    "plt.ylabel('Label Sebenernya')\n",
    "plt.show()"
   ]
  },
  {
   "cell_type": "code",
   "execution_count": 13,
   "metadata": {},
   "outputs": [
    {
     "name": "stdout",
     "output_type": "stream",
     "text": [
      "              precision    recall  f1-score   support\n",
      "\n",
      "          -1       0.68      0.83      0.75        23\n",
      "           1       0.85      0.72      0.78        32\n",
      "\n",
      "    accuracy                           0.76        55\n",
      "   macro avg       0.77      0.77      0.76        55\n",
      "weighted avg       0.78      0.76      0.77        55\n",
      "\n"
     ]
    }
   ],
   "source": [
    "cr_train=classification_report(y_pred,y_test)\n",
    "print(cr_train)"
   ]
  },
  {
   "cell_type": "code",
   "execution_count": 14,
   "metadata": {},
   "outputs": [],
   "source": [
    "def prediksi(teks):\n",
    "    kalimat=tfidf.transform([teks])\n",
    "    pred=svm.predict(kalimat)\n",
    "    if pred == 1:\n",
    "        sentimen = 'positif'\n",
    "    else:\n",
    "        sentimen ='negatif'\n",
    "    return sentimen"
   ]
  },
  {
   "cell_type": "code",
   "execution_count": 22,
   "metadata": {},
   "outputs": [
    {
     "data": {
      "text/plain": [
       "'negatif'"
      ]
     },
     "execution_count": 22,
     "metadata": {},
     "output_type": "execute_result"
    }
   ],
   "source": [
    "prediksi('jumlah pasien positif bertambah')"
   ]
  },
  {
   "cell_type": "code",
   "execution_count": 23,
   "metadata": {},
   "outputs": [
    {
     "data": {
      "text/plain": [
       "'negatif'"
      ]
     },
     "execution_count": 23,
     "metadata": {},
     "output_type": "execute_result"
    }
   ],
   "source": [
    "prediksi('kasihan masyarakat miskin')"
   ]
  },
  {
   "cell_type": "code",
   "execution_count": 24,
   "metadata": {},
   "outputs": [
    {
     "data": {
      "text/plain": [
       "'positif'"
      ]
     },
     "execution_count": 24,
     "metadata": {},
     "output_type": "execute_result"
    }
   ],
   "source": [
    "prediksi('pemerintah segera melakukan perbaikan ekonomi')"
   ]
  },
  {
   "cell_type": "code",
   "execution_count": null,
   "metadata": {},
   "outputs": [],
   "source": []
  }
 ],
 "metadata": {
  "kernelspec": {
   "display_name": "Python 3",
   "language": "python",
   "name": "python3"
  },
  "language_info": {
   "codemirror_mode": {
    "name": "ipython",
    "version": 3
   },
   "file_extension": ".py",
   "mimetype": "text/x-python",
   "name": "python",
   "nbconvert_exporter": "python",
   "pygments_lexer": "ipython3",
   "version": "3.8.5"
  }
 },
 "nbformat": 4,
 "nbformat_minor": 4
}
